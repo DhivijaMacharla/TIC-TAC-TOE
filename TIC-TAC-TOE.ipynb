{
 "cells": [
  {
   "cell_type": "markdown",
   "id": "c73517c7-3b78-488d-819a-ab781105a7b6",
   "metadata": {},
   "source": [
    "#TIC TAC TOE GAME"
   ]
  },
  {
   "cell_type": "markdown",
   "id": "d88b4b2a-ff9f-4f0f-90f0-00bd0dc3510c",
   "metadata": {},
   "source": [
    "#HERE ARE THE REQUIREMENTS:"
   ]
  },
  {
   "cell_type": "markdown",
   "id": "f8359393-f944-41b1-aecb-a39a1373362c",
   "metadata": {},
   "source": [
    ".2 players should be able to play the game (both sitting at the same computer)\n",
    ".The board should should be printed uot every time a player makes a move\n",
    ".You should be able to accept input of the player position and then place a symbol on the board"
   ]
  },
  {
   "cell_type": "raw",
   "id": "f70cce7d-d2e0-425c-9714-77c74f4636c5",
   "metadata": {},
   "source": [
    "Step1:write a function that can print out a board"
   ]
  },
  {
   "cell_type": "code",
   "execution_count": 1,
   "id": "7a06a3fc-717b-422a-96d7-a07eceabc14a",
   "metadata": {},
   "outputs": [],
   "source": [
    "from IPython.display import clear_output\n",
    "\n",
    "def display_board(board):\n",
    "    clear_output()\n",
    "\n",
    "    print('    |   |')\n",
    "    print('  '+board[7] + ' | '+ board[8] + ' | ' + board[9])\n",
    "    print('    |   |')\n",
    "    print('-------------')\n",
    "    print('    |   |')\n",
    "    print('  '+board[4] + ' | '+ board[5] + ' | ' + board[6])\n",
    "    print('    |   |')\n",
    "    print('-------------')\n",
    "    print('    |   |')\n",
    "    print('  '+board[1] + ' | '+ board[2] + ' | ' + board[3])\n",
    "    print('    |   |')\n",
    "    # print('-------------')\n",
    "    # print('    |   |')\n",
    "    "
   ]
  },
  {
   "cell_type": "raw",
   "id": "1134ff02-b34c-4c3a-b3c2-9b1d1b6ce1f4",
   "metadata": {},
   "source": [
    "TEST Step 1: run your function on a test version of the board list, and make adjustments as necessary"
   ]
  },
  {
   "cell_type": "code",
   "execution_count": 2,
   "id": "9815de35-381a-46d2-89fc-4eae6ad05eb5",
   "metadata": {},
   "outputs": [
    {
     "name": "stdout",
     "output_type": "stream",
     "text": [
      "    |   |\n",
      "  x | o | x\n",
      "    |   |\n",
      "-------------\n",
      "    |   |\n",
      "  o | x | o\n",
      "    |   |\n",
      "-------------\n",
      "    |   |\n",
      "  x | o | x\n",
      "    |   |\n"
     ]
    }
   ],
   "source": [
    "test_board= ['#', 'x', 'o', 'x', 'o', 'x', 'o', 'x', 'o', 'x']\n",
    "display_board(test_board)"
   ]
  },
  {
   "cell_type": "code",
   "execution_count": 3,
   "id": "fd6aa6d2-09f5-4fb7-bb83-b62c6546a196",
   "metadata": {},
   "outputs": [],
   "source": [
    "###Step 2:write a function that can take in a player input and assign their marker as 'x' or 'o'.think about using while lopps to continually ask until you get a correct answer"
   ]
  },
  {
   "cell_type": "code",
   "execution_count": 4,
   "id": "ac0e2212-d5cc-4bbe-8ca1-68b52bc389bf",
   "metadata": {},
   "outputs": [],
   "source": [
    "def player_input():\n",
    "    marker = ''\n",
    "    while not (marker == 'X' or marker == 'O'):\n",
    "        marker = input('Player 1: Do you want to be X or O ? ').upper()\n",
    "    if marker == 'X':\n",
    "        return ('X', 'O')\n",
    "    else:\n",
    "        return ('O', 'X')"
   ]
  },
  {
   "cell_type": "raw",
   "id": "fd8f495c-f801-4f5c-8d9b-1acc08ebac6e",
   "metadata": {},
   "source": [
    "TEST Step2: run the function to make sure it returns the desired output"
   ]
  },
  {
   "cell_type": "code",
   "execution_count": 5,
   "id": "6d130d34-acba-4f10-a029-50c3a92fff8f",
   "metadata": {},
   "outputs": [
    {
     "name": "stdin",
     "output_type": "stream",
     "text": [
      "Player 1: Do you want to be X or O ?  x\n"
     ]
    },
    {
     "data": {
      "text/plain": [
       "('X', 'O')"
      ]
     },
     "execution_count": 5,
     "metadata": {},
     "output_type": "execute_result"
    }
   ],
   "source": [
    "player_input()"
   ]
  },
  {
   "cell_type": "raw",
   "id": "c41f5966-4179-4cba-b90d-5bb0e933ebca",
   "metadata": {},
   "source": [
    "STEP 3:write a function that takes in the board list object, a marker ('x','o'),and a desired postion (number 1-9) and assigns it to the board."
   ]
  },
  {
   "cell_type": "code",
   "execution_count": 6,
   "id": "b91d091d-c687-4a37-8996-0c3f3c1145a1",
   "metadata": {},
   "outputs": [],
   "source": [
    "def place_marker(board,marker,position):\n",
    "    board[position]=marker"
   ]
  },
  {
   "cell_type": "raw",
   "id": "173cdeeb-7948-47db-9b96-c96390ef9ecb",
   "metadata": {},
   "source": [
    "TEST Step 3: run the place marker function using test parameters and display the modified board"
   ]
  },
  {
   "cell_type": "code",
   "execution_count": 7,
   "id": "dfe012fe-e342-4769-80ee-33de05b1adcb",
   "metadata": {},
   "outputs": [
    {
     "name": "stdout",
     "output_type": "stream",
     "text": [
      "    |   |\n",
      "  x | $ | x\n",
      "    |   |\n",
      "-------------\n",
      "    |   |\n",
      "  o | x | o\n",
      "    |   |\n",
      "-------------\n",
      "    |   |\n",
      "  x | o | x\n",
      "    |   |\n"
     ]
    }
   ],
   "source": [
    "place_marker(test_board,'$',8)\n",
    "display_board(test_board)"
   ]
  },
  {
   "cell_type": "raw",
   "id": "75221983-f747-4d3c-a7f9-ceac7f9ba6b9",
   "metadata": {},
   "source": [
    "Step 4:write a function that takes in a board and checks to see if someone has own"
   ]
  },
  {
   "cell_type": "code",
   "execution_count": 8,
   "id": "ef8735e3-8283-43ab-8d00-057faf4daad8",
   "metadata": {},
   "outputs": [],
   "source": [
    "def win_check(board,mark):\n",
    "    return ((board[7]==mark and board[8]==mark and board[9]==mark) or\n",
    "         (board[4]==mark and board[5]==mark and board[6]==mark) or\n",
    "         (board[1]==mark and board[2]==mark and board[3]==mark) or\n",
    "         (board[7]==mark and board[4]==mark and board[1]==mark) or\n",
    "         (board[8]==mark and board[5]==mark and board[2]==mark) or\n",
    "         (board[9]==mark and board[6]==mark and board[3]==mark) or\n",
    "         (board[7]==mark and board[5]==mark and board[3]==mark) or\n",
    "         (board[9]==mark and board[5]==mark and board[1]==mark))"
   ]
  },
  {
   "cell_type": "raw",
   "id": "9150965a-38e3-4e39-8f44-e78b83696433",
   "metadata": {},
   "source": [
    "TEST Step 4:run the win_check function against our test_board - it should return True"
   ]
  },
  {
   "cell_type": "code",
   "execution_count": 9,
   "id": "154e7f2f-95f4-4b73-9cb1-39179ae7ed28",
   "metadata": {},
   "outputs": [
    {
     "data": {
      "text/plain": [
       "True"
      ]
     },
     "execution_count": 9,
     "metadata": {},
     "output_type": "execute_result"
    }
   ],
   "source": [
    "win_check(test_board,'x')"
   ]
  },
  {
   "cell_type": "raw",
   "id": "abb8dfb3-9bb3-47ab-bab2-4109147d04b9",
   "metadata": {},
   "source": [
    "STEP 5:write a function that uses the random module to randomly decide which player goes frist.you may want to lookup random.randint() return a string of which player went first."
   ]
  },
  {
   "cell_type": "code",
   "execution_count": 18,
   "id": "033d66b4-dcd3-4d81-9b1c-33664ea68c56",
   "metadata": {},
   "outputs": [],
   "source": [
    "import random\n",
    "\n",
    "def choose_first():\n",
    "    if random.randint(0, 1) == 0:\n",
    "        return 'Player 1'\n",
    "    else:\n",
    "        return 'Player 2'"
   ]
  },
  {
   "cell_type": "code",
   "execution_count": 19,
   "id": "382c744d-e3f1-492e-929b-cef9114f2416",
   "metadata": {},
   "outputs": [],
   "source": [
    "#Step 6: write a function that returns aboolen indicating whether a space on the board is freely available.\n",
    "def space_check(board, position):\n",
    "    return board[position] == ' '\n"
   ]
  },
  {
   "cell_type": "code",
   "execution_count": 20,
   "id": "43e11249-52fd-48cf-8bff-1fe14b7b134a",
   "metadata": {},
   "outputs": [],
   "source": [
    "#Step 7:write a function that checks if the board is full and return a boolean value true if full, false otherwise\n",
    "def full_board_check(board):\n",
    "    for i in range(1, 10):\n",
    "        if space_check(board, i):\n",
    "            return False\n",
    "    return True"
   ]
  },
  {
   "cell_type": "code",
   "execution_count": 21,
   "id": "09b50d88-7581-46c5-9cce-afb12d8a577a",
   "metadata": {},
   "outputs": [],
   "source": [
    "#Step 8:write a function that tasks for a player's next position(as a number 1-9) and then uses\n",
    "#the function from step 6 to check if its a free position. if it is, then return the position for later use\n",
    "def player_choice(board):\n",
    "    position = 0\n",
    "    while position not in [1, 2, 3, 4, 5, 6, 7, 8, 9] or not space_check(board, position):\n",
    "        position = int(input('Choose your next position: (1-9) '))\n",
    "    return position"
   ]
  },
  {
   "cell_type": "code",
   "execution_count": 22,
   "id": "587d23b1-5f7e-47ff-9120-b23afc2876a0",
   "metadata": {},
   "outputs": [],
   "source": [
    "#Step 9:write a function that asks the player if they want to play again and returns a boolean true if they do want to play again\n",
    "def replay():\n",
    "    return input('Do you want to play again? Enter Yes or No: ').lower().startswith('y')\n"
   ]
  },
  {
   "cell_type": "code",
   "execution_count": 23,
   "id": "122510e8-c459-4844-965b-37e20aab059e",
   "metadata": {},
   "outputs": [],
   "source": [
    "#Step 10: here comes the hard part! use while loops and the function you've nade to run the game!"
   ]
  },
  {
   "cell_type": "code",
   "execution_count": 24,
   "id": "a09b64ea-663b-4afc-9c44-02acd57752a6",
   "metadata": {},
   "outputs": [
    {
     "name": "stdout",
     "output_type": "stream",
     "text": [
      "    |   |\n",
      "    |   | X\n",
      "    |   |\n",
      "-------------\n",
      "    |   |\n",
      "  O | X | O\n",
      "    |   |\n",
      "-------------\n",
      "    |   |\n",
      "  X |   |  \n",
      "    |   |\n",
      "Congratulations! You have won the game!\n"
     ]
    },
    {
     "name": "stdin",
     "output_type": "stream",
     "text": [
      "Do you want to play again? Enter Yes or No:  n\n"
     ]
    }
   ],
   "source": [
    "print('Welcome to Tic Tac Toe!')\n",
    "\n",
    "while True:\n",
    "    # Reset the board\n",
    "    theBoard = [' '] * 10\n",
    "    player1_marker, player2_marker = player_input()\n",
    "    turn = choose_first()\n",
    "    print(turn + ' will go first.')\n",
    "    play_game = input('Are you ready to play? Enter Yes or No: ')\n",
    "\n",
    "    if play_game.lower()[0] == 'y':\n",
    "        game_on = True\n",
    "    else:\n",
    "        game_on = False\n",
    "\n",
    "    while game_on:\n",
    "        if turn == 'Player 1':\n",
    "            display_board(theBoard)\n",
    "            position = player_choice(theBoard)\n",
    "            place_marker(theBoard, player1_marker, position)\n",
    "\n",
    "            if win_check(theBoard, player1_marker):\n",
    "                display_board(theBoard)\n",
    "                print('Congratulations! You have won the game!')\n",
    "                game_on = False\n",
    "            else:\n",
    "                if full_board_check(theBoard):\n",
    "                    display_board(theBoard)\n",
    "                    print('The game is a draw!')\n",
    "                    break\n",
    "                else:\n",
    "                    turn = 'Player 2'\n",
    "        else:\n",
    "            display_board(theBoard)\n",
    "            position = player_choice(theBoard)\n",
    "            place_marker(theBoard, player2_marker, position)\n",
    "\n",
    "            if win_check(theBoard, player2_marker):\n",
    "                display_board(theBoard)\n",
    "                print('Player 2 has won!')\n",
    "                game_on = False\n",
    "            else:\n",
    "                if full_board_check(theBoard):\n",
    "                    display_board(theBoard)\n",
    "                    print('The game is a draw!')\n",
    "                    break\n",
    "                else:\n",
    "                    turn = 'Player 1'\n",
    "\n",
    "    if not replay():\n",
    "        break         \n",
    "        "
   ]
  },
  {
   "cell_type": "code",
   "execution_count": null,
   "id": "a83ab663-e5cb-4526-ba3d-fdbeece60ab2",
   "metadata": {},
   "outputs": [],
   "source": []
  }
 ],
 "metadata": {
  "kernelspec": {
   "display_name": "Python 3 (ipykernel)",
   "language": "python",
   "name": "python3"
  },
  "language_info": {
   "codemirror_mode": {
    "name": "ipython",
    "version": 3
   },
   "file_extension": ".py",
   "mimetype": "text/x-python",
   "name": "python",
   "nbconvert_exporter": "python",
   "pygments_lexer": "ipython3",
   "version": "3.12.4"
  }
 },
 "nbformat": 4,
 "nbformat_minor": 5
}
